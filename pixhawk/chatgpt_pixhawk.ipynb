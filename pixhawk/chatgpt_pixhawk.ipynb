{
 "cells": [
  {
   "cell_type": "code",
   "execution_count": null,
   "metadata": {},
   "outputs": [],
   "source": [
    "from dronekit import connect, VehicleMode\n",
    "import time\n",
    "\n",
    "# Connect to the vehicle.\n",
    "vehicle = connect('/dev/ttyACM0', baud=57600, wait_ready=True)\n",
    "\n",
    "# Arm and takeoff to a specified altitude.\n",
    "print(\"Arming and taking off...\")\n",
    "vehicle.mode = VehicleMode(\"GUIDED\")\n",
    "vehicle.armed = True\n",
    "vehicle.simple_takeoff(10)  # Take off to a height of 10 meters.\n",
    "\n",
    "# Wait for the vehicle to reach the desired altitude.\n",
    "while True:\n",
    "    altitude = vehicle.location.global_relative_frame.alt\n",
    "    if altitude >= 10 * 0.95:  # Within 5% of target altitude.\n",
    "        print(\"Reached target altitude of %d meters\" % altitude)\n",
    "        break\n",
    "    time.sleep(1)\n",
    "\n",
    "# Disarm the vehicle and close the connection.\n",
    "print(\"Landing and disarming...\")\n",
    "vehicle.mode = VehicleMode(\"LAND\")\n",
    "vehicle.armed = False\n",
    "vehicle.close()"
   ]
  }
 ],
 "metadata": {
  "language_info": {
   "name": "python"
  },
  "orig_nbformat": 4
 },
 "nbformat": 4,
 "nbformat_minor": 2
}
