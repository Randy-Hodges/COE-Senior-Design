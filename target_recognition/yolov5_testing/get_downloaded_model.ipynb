{
 "cells": [
  {
   "cell_type": "code",
   "execution_count": 3,
   "metadata": {},
   "outputs": [
    {
     "ename": "KeyError",
     "evalue": "'model'",
     "output_type": "error",
     "traceback": [
      "\u001b[1;31m---------------------------------------------------------------------------\u001b[0m",
      "\u001b[1;31mKeyError\u001b[0m                                  Traceback (most recent call last)",
      "\u001b[1;32m~\\AppData\\Local\\Temp\\ipykernel_11548\\2677307469.py\u001b[0m in \u001b[0;36m<module>\u001b[1;34m\u001b[0m\n\u001b[0;32m     13\u001b[0m \u001b[1;31m# Load the pre-trained model from the .pt file\u001b[0m\u001b[1;33m\u001b[0m\u001b[1;33m\u001b[0m\u001b[0m\n\u001b[0;32m     14\u001b[0m \u001b[0mweights_path\u001b[0m \u001b[1;33m=\u001b[0m \u001b[1;34m'saved_model.pt'\u001b[0m\u001b[1;33m\u001b[0m\u001b[1;33m\u001b[0m\u001b[0m\n\u001b[1;32m---> 15\u001b[1;33m \u001b[0mmodel_dict\u001b[0m \u001b[1;33m=\u001b[0m \u001b[0mtorch\u001b[0m\u001b[1;33m.\u001b[0m\u001b[0mload\u001b[0m\u001b[1;33m(\u001b[0m\u001b[0mweights_path\u001b[0m\u001b[1;33m,\u001b[0m \u001b[0mmap_location\u001b[0m\u001b[1;33m=\u001b[0m\u001b[0mtorch\u001b[0m\u001b[1;33m.\u001b[0m\u001b[0mdevice\u001b[0m\u001b[1;33m(\u001b[0m\u001b[1;34m'cpu'\u001b[0m\u001b[1;33m)\u001b[0m\u001b[1;33m)\u001b[0m\u001b[1;33m[\u001b[0m\u001b[1;34m'model'\u001b[0m\u001b[1;33m]\u001b[0m\u001b[1;33m.\u001b[0m\u001b[0mfloat\u001b[0m\u001b[1;33m(\u001b[0m\u001b[1;33m)\u001b[0m\u001b[1;33m.\u001b[0m\u001b[0mstate_dict\u001b[0m\u001b[1;33m(\u001b[0m\u001b[1;33m)\u001b[0m\u001b[1;33m\u001b[0m\u001b[1;33m\u001b[0m\u001b[0m\n\u001b[0m\u001b[0;32m     16\u001b[0m \u001b[1;33m\u001b[0m\u001b[0m\n\u001b[0;32m     17\u001b[0m \u001b[1;31m# Create a custom module using the model dictionary\u001b[0m\u001b[1;33m\u001b[0m\u001b[1;33m\u001b[0m\u001b[0m\n",
      "\u001b[1;31mKeyError\u001b[0m: 'model'"
     ]
    }
   ],
   "source": [
    "import torch\n",
    "import cv2\n",
    "import os\n",
    "\n",
    "class CustomModel(torch.nn.Module):\n",
    "    def __init__(self, model_dict):\n",
    "        super().__init__()\n",
    "        self.model_dict = model_dict\n",
    "\n",
    "    def forward(self, x):\n",
    "        return self.model_dict(x)\n",
    "\n",
    "# Load the pre-trained model from the .pt file\n",
    "weights_path = 'saved_model.pt'\n",
    "model_dict = torch.load(weights_path, map_location=torch.device('cpu'))['model'].float().state_dict()\n",
    "\n",
    "# Create a custom module using the model dictionary\n",
    "model = CustomModel(model_dict)\n",
    "\n",
    "# Define the folder containing the images to be processed\n",
    "image_folder = 'data/test_yolov5_1'\n",
    "\n",
    "\n",
    "\n",
    "# Loop over each image in the folder and perform object detection\n",
    "for image_file in os.listdir(image_folder):\n",
    "    # Read the image file\n",
    "    image_path = os.path.join(image_folder, image_file)\n",
    "    image = cv2.imread(image_path)\n",
    "\n",
    "    # Convert the image to a PyTorch tensor\n",
    "    image_tensor = torch.from_numpy(image).permute(2, 0, 1).float().div(255.0).unsqueeze(0)\n",
    "\n",
    "    # Perform object detection using the YOLOv5 model\n",
    "    with torch.no_grad():\n",
    "        results = model(image_tensor)\n",
    "\n",
    "    # Extract the coordinates of the bounding boxes of each object detected in the image\n",
    "    bboxes = results.xyxy[0].cpu().numpy()\n",
    "\n",
    "    # Loop over each bounding box and print the coordinates\n",
    "    for bbox in bboxes:\n",
    "        x1, y1, x2, y2, conf, cls = bbox.tolist()\n",
    "        print(f\"Object detected: class {int(cls)}, confidence {conf:.2f}, BBox: ({x1:.2f}, {y1:.2f}), ({x2:.2f}, {y2:.2f})\")\n"
   ]
  }
 ],
 "metadata": {
  "kernelspec": {
   "display_name": "base",
   "language": "python",
   "name": "python3"
  },
  "language_info": {
   "codemirror_mode": {
    "name": "ipython",
    "version": 3
   },
   "file_extension": ".py",
   "mimetype": "text/x-python",
   "name": "python",
   "nbconvert_exporter": "python",
   "pygments_lexer": "ipython3",
   "version": "3.9.13"
  },
  "orig_nbformat": 4
 },
 "nbformat": 4,
 "nbformat_minor": 2
}
